{
 "cells": [
  {
   "cell_type": "code",
   "execution_count": 32,
   "id": "initial_id",
   "metadata": {
    "ExecuteTime": {
     "end_time": "2024-10-17T07:33:46.313081Z",
     "start_time": "2024-10-17T07:33:46.266248Z"
    },
    "collapsed": true
   },
   "outputs": [],
   "source": [
    "import pandas as pd\n",
    "\n",
    "df1 = pd.read_csv(\"data/naver_cafe_articles_final.csv\")\n",
    "df2 = pd.read_csv(\"data/naver_cafe_articles_final_new.csv\")\n",
    "df3 = pd.read_csv(\"data/naver_blog.csv\")\n"
   ]
  },
  {
   "cell_type": "code",
   "execution_count": 33,
   "id": "cb793be8",
   "metadata": {},
   "outputs": [
    {
     "data": {
      "text/html": [
       "<div>\n",
       "<style scoped>\n",
       "    .dataframe tbody tr th:only-of-type {\n",
       "        vertical-align: middle;\n",
       "    }\n",
       "\n",
       "    .dataframe tbody tr th {\n",
       "        vertical-align: top;\n",
       "    }\n",
       "\n",
       "    .dataframe thead th {\n",
       "        text-align: right;\n",
       "    }\n",
       "</style>\n",
       "<table border=\"1\" class=\"dataframe\">\n",
       "  <thead>\n",
       "    <tr style=\"text-align: right;\">\n",
       "      <th></th>\n",
       "      <th>Title</th>\n",
       "    </tr>\n",
       "  </thead>\n",
       "  <tbody>\n",
       "    <tr>\n",
       "      <th>0</th>\n",
       "      <td>예전에 가스 오븐만 사용해봤는데 이사오니 가스레인지밑에 전기광파오븐이 설치되어있는데...</td>\n",
       "    </tr>\n",
       "    <tr>\n",
       "      <th>1</th>\n",
       "      <td>안녕하세요 우리집 LG 가전 광파오븐 MLJ32ERS.CKOR 입니다. 일단 전자레...</td>\n",
       "    </tr>\n",
       "    <tr>\n",
       "      <th>2</th>\n",
       "      <td>1월에 캐나다로 갈 예정입니다~ 집에 LG디오스 광파오븐 있는데 이게 전자레인지, ...</td>\n",
       "    </tr>\n",
       "    <tr>\n",
       "      <th>3</th>\n",
       "      <td>집에 에어프라이어 오븐과 LG 디오스 광파오븐 전자레인지?(회전함, 아파트 옵션)이...</td>\n",
       "    </tr>\n",
       "    <tr>\n",
       "      <th>4</th>\n",
       "      <td>통합된 광파오븐이나 큐커가 좋다는 분들이 있어서 헷갈려요ㅜㅜ 햇반 돌리거나 생선구이...</td>\n",
       "    </tr>\n",
       "    <tr>\n",
       "      <th>...</th>\n",
       "      <td>...</td>\n",
       "    </tr>\n",
       "    <tr>\n",
       "      <th>1363</th>\n",
       "      <td>오브제 냉장고, 광파오븐, 식세기 넣으려 합니다. 모두 올 베이지에 광파오븐만 그린...</td>\n",
       "    </tr>\n",
       "    <tr>\n",
       "      <th>1364</th>\n",
       "      <td>엘지 lg 광파오븐 오브제 에어프라이어 세일 깔끔한 디자인에 어느곳에도 잘 어울리는...</td>\n",
       "    </tr>\n",
       "    <tr>\n",
       "      <th>1365</th>\n",
       "      <td>베이킹 시작하려고 하는데 엘지 광파오븐으로도 가능한가요..? 처음 시작하는거라 아무...</td>\n",
       "    </tr>\n",
       "    <tr>\n",
       "      <th>1366</th>\n",
       "      <td>아니면 광파오븐을 설치할까 하는데 이것도 열기 때문에 공간이 어느정도 있어야 한다고...</td>\n",
       "    </tr>\n",
       "    <tr>\n",
       "      <th>1367</th>\n",
       "      <td>기존에 쓰던 전자레인지가 있어서 에어프라이어는 따로 구매할까 했는데 광파오븐이 있더...</td>\n",
       "    </tr>\n",
       "  </tbody>\n",
       "</table>\n",
       "<p>1368 rows × 1 columns</p>\n",
       "</div>"
      ],
      "text/plain": [
       "                                                  Title\n",
       "0     예전에 가스 오븐만 사용해봤는데 이사오니 가스레인지밑에 전기광파오븐이 설치되어있는데...\n",
       "1     안녕하세요 우리집 LG 가전 광파오븐 MLJ32ERS.CKOR 입니다. 일단 전자레...\n",
       "2     1월에 캐나다로 갈 예정입니다~ 집에 LG디오스 광파오븐 있는데 이게 전자레인지, ...\n",
       "3     집에 에어프라이어 오븐과 LG 디오스 광파오븐 전자레인지?(회전함, 아파트 옵션)이...\n",
       "4     통합된 광파오븐이나 큐커가 좋다는 분들이 있어서 헷갈려요ㅜㅜ 햇반 돌리거나 생선구이...\n",
       "...                                                 ...\n",
       "1363  오브제 냉장고, 광파오븐, 식세기 넣으려 합니다. 모두 올 베이지에 광파오븐만 그린...\n",
       "1364  엘지 lg 광파오븐 오브제 에어프라이어 세일 깔끔한 디자인에 어느곳에도 잘 어울리는...\n",
       "1365  베이킹 시작하려고 하는데 엘지 광파오븐으로도 가능한가요..? 처음 시작하는거라 아무...\n",
       "1366  아니면 광파오븐을 설치할까 하는데 이것도 열기 때문에 공간이 어느정도 있어야 한다고...\n",
       "1367  기존에 쓰던 전자레인지가 있어서 에어프라이어는 따로 구매할까 했는데 광파오븐이 있더...\n",
       "\n",
       "[1368 rows x 1 columns]"
      ]
     },
     "execution_count": 33,
     "metadata": {},
     "output_type": "execute_result"
    }
   ],
   "source": [
    "df1"
   ]
  },
  {
   "cell_type": "code",
   "execution_count": 34,
   "id": "f1c6115a",
   "metadata": {},
   "outputs": [
    {
     "data": {
      "text/html": [
       "<div>\n",
       "<style scoped>\n",
       "    .dataframe tbody tr th:only-of-type {\n",
       "        vertical-align: middle;\n",
       "    }\n",
       "\n",
       "    .dataframe tbody tr th {\n",
       "        vertical-align: top;\n",
       "    }\n",
       "\n",
       "    .dataframe thead th {\n",
       "        text-align: right;\n",
       "    }\n",
       "</style>\n",
       "<table border=\"1\" class=\"dataframe\">\n",
       "  <thead>\n",
       "    <tr style=\"text-align: right;\">\n",
       "      <th></th>\n",
       "      <th>Title</th>\n",
       "    </tr>\n",
       "  </thead>\n",
       "  <tbody>\n",
       "    <tr>\n",
       "      <th>0</th>\n",
       "      <td>엘지 구경갔다가 결제하고 왔네여..^_^ 빌트인 정수기 티비75인치 스텐바이미 워시...</td>\n",
       "    </tr>\n",
       "    <tr>\n",
       "      <th>1</th>\n",
       "      <td>✌ 땅콩쿠키 구우면서 느꼈던 에카 오븐 광파오븐으로는 두세번 구워야하는 양을 에카 ...</td>\n",
       "    </tr>\n",
       "    <tr>\n",
       "      <th>2</th>\n",
       "      <td>있는 광파오븐장 테두리랑 수평이 안맞음. (더 못맞추길래 포기) - 로봇청소기장 하...</td>\n",
       "    </tr>\n",
       "    <tr>\n",
       "      <th>3</th>\n",
       "      <td>시스템에어컨 풀 / 삼성 매립정수기 / 4구 가스렌지 / 식세기 / 광파오븐 / 알...</td>\n",
       "    </tr>\n",
       "    <tr>\n",
       "      <th>4</th>\n",
       "      <td>보니 아래 사진이 나오는데 저희집 오븐은 구조가 좀 다르네요 .. as센터 아시는분...</td>\n",
       "    </tr>\n",
       "    <tr>\n",
       "      <th>...</th>\n",
       "      <td>...</td>\n",
       "    </tr>\n",
       "    <tr>\n",
       "      <th>1195</th>\n",
       "      <td>미디어 플랫 광파오븐 에어프라이어 전자레인지 25L 아이보리 제품입니다. 가격은 2...</td>\n",
       "    </tr>\n",
       "    <tr>\n",
       "      <th>1196</th>\n",
       "      <td>미스트화이트 역시 환하고 넓어보이네요 광파오븐은 추석 세일로 샀고 인덕션은 가전 구...</td>\n",
       "    </tr>\n",
       "    <tr>\n",
       "      <th>1197</th>\n",
       "      <td>0% 원래 제품 가격: 19,000 할인 적용 및 상세정보 18 LG전자 LG오브제...</td>\n",
       "    </tr>\n",
       "    <tr>\n",
       "      <th>1198</th>\n",
       "      <td>안녕하세요 랑부님들~ 홍짜장입니당ㅎㅎ 어제 신혼집으로 이사하면서 Lg 가전도 다 배...</td>\n",
       "    </tr>\n",
       "    <tr>\n",
       "      <th>1199</th>\n",
       "      <td>cmw-co3010dw 할인 받고 구매 쿠쿠 멀티 광파오븐 CMW-CO3010DW:...</td>\n",
       "    </tr>\n",
       "  </tbody>\n",
       "</table>\n",
       "<p>1200 rows × 1 columns</p>\n",
       "</div>"
      ],
      "text/plain": [
       "                                                  Title\n",
       "0     엘지 구경갔다가 결제하고 왔네여..^_^ 빌트인 정수기 티비75인치 스텐바이미 워시...\n",
       "1     ✌ 땅콩쿠키 구우면서 느꼈던 에카 오븐 광파오븐으로는 두세번 구워야하는 양을 에카 ...\n",
       "2     있는 광파오븐장 테두리랑 수평이 안맞음. (더 못맞추길래 포기) - 로봇청소기장 하...\n",
       "3     시스템에어컨 풀 / 삼성 매립정수기 / 4구 가스렌지 / 식세기 / 광파오븐 / 알...\n",
       "4     보니 아래 사진이 나오는데 저희집 오븐은 구조가 좀 다르네요 .. as센터 아시는분...\n",
       "...                                                 ...\n",
       "1195  미디어 플랫 광파오븐 에어프라이어 전자레인지 25L 아이보리 제품입니다. 가격은 2...\n",
       "1196  미스트화이트 역시 환하고 넓어보이네요 광파오븐은 추석 세일로 샀고 인덕션은 가전 구...\n",
       "1197  0% 원래 제품 가격: 19,000 할인 적용 및 상세정보 18 LG전자 LG오브제...\n",
       "1198  안녕하세요 랑부님들~ 홍짜장입니당ㅎㅎ 어제 신혼집으로 이사하면서 Lg 가전도 다 배...\n",
       "1199  cmw-co3010dw 할인 받고 구매 쿠쿠 멀티 광파오븐 CMW-CO3010DW:...\n",
       "\n",
       "[1200 rows x 1 columns]"
      ]
     },
     "execution_count": 34,
     "metadata": {},
     "output_type": "execute_result"
    }
   ],
   "source": [
    "df2"
   ]
  },
  {
   "cell_type": "code",
   "execution_count": 2,
   "id": "b220e08e707b1f72",
   "metadata": {
    "ExecuteTime": {
     "end_time": "2024-10-17T07:33:48.383177Z",
     "start_time": "2024-10-17T07:33:48.361815Z"
    }
   },
   "outputs": [],
   "source": [
    "df4 = pd.read_csv(\"data/광파오븐_공홈_리뷰.csv\")\n",
    "df4 = df4[['리뷰']].rename(columns={'리뷰': 'Title'})"
   ]
  },
  {
   "cell_type": "code",
   "execution_count": 3,
   "id": "abe13828363f652e",
   "metadata": {
    "ExecuteTime": {
     "end_time": "2024-10-17T07:33:49.150216Z",
     "start_time": "2024-10-17T07:33:49.135904Z"
    }
   },
   "outputs": [],
   "source": [
    "df5 = pd.read_csv(\"data/combined_youtube_comments.csv\")\n",
    "df5 = df5[['Review']].rename(columns={'Review': 'Title'})"
   ]
  },
  {
   "cell_type": "code",
   "execution_count": 4,
   "id": "7146182b8112cee0",
   "metadata": {
    "ExecuteTime": {
     "end_time": "2024-10-17T07:33:49.699850Z",
     "start_time": "2024-10-17T07:33:49.673371Z"
    }
   },
   "outputs": [
    {
     "data": {
      "text/html": [
       "<div>\n",
       "<style scoped>\n",
       "    .dataframe tbody tr th:only-of-type {\n",
       "        vertical-align: middle;\n",
       "    }\n",
       "\n",
       "    .dataframe tbody tr th {\n",
       "        vertical-align: top;\n",
       "    }\n",
       "\n",
       "    .dataframe thead th {\n",
       "        text-align: right;\n",
       "    }\n",
       "</style>\n",
       "<table border=\"1\" class=\"dataframe\">\n",
       "  <thead>\n",
       "    <tr style=\"text-align: right;\">\n",
       "      <th></th>\n",
       "      <th>Title</th>\n",
       "    </tr>\n",
       "  </thead>\n",
       "  <tbody>\n",
       "    <tr>\n",
       "      <th>0</th>\n",
       "      <td>저는 매일 요리하는 주부는 아니지만 술안주를 만들 때나 특별한 요리를 오븐으로 많이...</td>\n",
       "    </tr>\n",
       "    <tr>\n",
       "      <th>1</th>\n",
       "      <td>2022년 10월 13일 · lg 디오스 광파오븐 후기 요약 지금까지 LG 디오스 ...</td>\n",
       "    </tr>\n",
       "    <tr>\n",
       "      <th>2</th>\n",
       "      <td>구매 우선순위에서 밀린 지 어언 1년 반…. ㅇ 모델명 및 색상 : ML32WI, ...</td>\n",
       "    </tr>\n",
       "    <tr>\n",
       "      <th>3</th>\n",
       "      <td>2023년 11월 20일 · 엘지 디오스 오브제컬렉션 광파오븐 (LG-MLJ39WW...</td>\n",
       "    </tr>\n",
       "    <tr>\n",
       "      <th>4</th>\n",
       "      <td>2024년 7월 19일 · 사실 이 광파오븐은 이사를 오면서 구매를 한 제품이다. ...</td>\n",
       "    </tr>\n",
       "    <tr>\n",
       "      <th>...</th>\n",
       "      <td>...</td>\n",
       "    </tr>\n",
       "    <tr>\n",
       "      <th>1569</th>\n",
       "      <td>lg 디오스 광파오븐의 기능 살펴보기 2013년 새해계획은 세우셨나요? 저는 201...</td>\n",
       "    </tr>\n",
       "    <tr>\n",
       "      <th>1570</th>\n",
       "      <td>2024년 8월 27일 · 광파오븐은 요리의 다양한 기능을 갖춘 현대적인 주방 가전...</td>\n",
       "    </tr>\n",
       "    <tr>\n",
       "      <th>1571</th>\n",
       "      <td>리뷰: 전자렌지보다 공간을 좀 많이 차지하는게 흠이지만.. 오븐이 너무 탐이나서 바...</td>\n",
       "    </tr>\n",
       "    <tr>\n",
       "      <th>1572</th>\n",
       "      <td>2024년 8월 5일 · LG광파오븐 청소 깨끗하게 오븐청소 방법 관리팁 @써니네하...</td>\n",
       "    </tr>\n",
       "    <tr>\n",
       "      <th>1573</th>\n",
       "      <td>2020년 4월 27일 · #sk매직 #올인원광파오븐 #오븐추천 #에어프라이추천 #...</td>\n",
       "    </tr>\n",
       "  </tbody>\n",
       "</table>\n",
       "<p>1574 rows × 1 columns</p>\n",
       "</div>"
      ],
      "text/plain": [
       "                                                  Title\n",
       "0     저는 매일 요리하는 주부는 아니지만 술안주를 만들 때나 특별한 요리를 오븐으로 많이...\n",
       "1     2022년 10월 13일 · lg 디오스 광파오븐 후기 요약 지금까지 LG 디오스 ...\n",
       "2     구매 우선순위에서 밀린 지 어언 1년 반…. ㅇ 모델명 및 색상 : ML32WI, ...\n",
       "3     2023년 11월 20일 · 엘지 디오스 오브제컬렉션 광파오븐 (LG-MLJ39WW...\n",
       "4     2024년 7월 19일 · 사실 이 광파오븐은 이사를 오면서 구매를 한 제품이다. ...\n",
       "...                                                 ...\n",
       "1569  lg 디오스 광파오븐의 기능 살펴보기 2013년 새해계획은 세우셨나요? 저는 201...\n",
       "1570  2024년 8월 27일 · 광파오븐은 요리의 다양한 기능을 갖춘 현대적인 주방 가전...\n",
       "1571  리뷰: 전자렌지보다 공간을 좀 많이 차지하는게 흠이지만.. 오븐이 너무 탐이나서 바...\n",
       "1572  2024년 8월 5일 · LG광파오븐 청소 깨끗하게 오븐청소 방법 관리팁 @써니네하...\n",
       "1573  2020년 4월 27일 · #sk매직 #올인원광파오븐 #오븐추천 #에어프라이추천 #...\n",
       "\n",
       "[1574 rows x 1 columns]"
      ]
     },
     "execution_count": 4,
     "metadata": {},
     "output_type": "execute_result"
    }
   ],
   "source": [
    "df6 = pd.read_csv(\"data/bing.csv\")\n",
    "df6"
   ]
  },
  {
   "cell_type": "code",
   "execution_count": 5,
   "id": "d97a8bc31548e2cf",
   "metadata": {
    "ExecuteTime": {
     "end_time": "2024-10-17T07:33:50.893284Z",
     "start_time": "2024-10-17T07:33:50.876493Z"
    }
   },
   "outputs": [
    {
     "data": {
      "text/html": [
       "<div>\n",
       "<style scoped>\n",
       "    .dataframe tbody tr th:only-of-type {\n",
       "        vertical-align: middle;\n",
       "    }\n",
       "\n",
       "    .dataframe tbody tr th {\n",
       "        vertical-align: top;\n",
       "    }\n",
       "\n",
       "    .dataframe thead th {\n",
       "        text-align: right;\n",
       "    }\n",
       "</style>\n",
       "<table border=\"1\" class=\"dataframe\">\n",
       "  <thead>\n",
       "    <tr style=\"text-align: right;\">\n",
       "      <th></th>\n",
       "      <th>Title</th>\n",
       "    </tr>\n",
       "  </thead>\n",
       "  <tbody>\n",
       "    <tr>\n",
       "      <th>0</th>\n",
       "      <td>광파오븐이 전자레인지 겸용이라고는 써져있는데 에어프라이어는 모르겠네</td>\n",
       "    </tr>\n",
       "    <tr>\n",
       "      <th>1</th>\n",
       "      <td>광파오븐(컨벡션 전자레인지)을 사용해 유럽식 빵(사워도우, 치아바타, 바게트 등)을...</td>\n",
       "    </tr>\n",
       "    <tr>\n",
       "      <th>2</th>\n",
       "      <td>LG 광파오븐 청소 방법 멀티클린 활용기 삶이 윤택해진다 LG 광파오븐 을 지르고 ...</td>\n",
       "    </tr>\n",
       "    <tr>\n",
       "      <th>3</th>\n",
       "      <td>광파오븐렌지 매입 설치 수납장 리폼 전/후 광파오븐 매입설치 LG광파오븐 수납장 리...</td>\n",
       "    </tr>\n",
       "    <tr>\n",
       "      <th>4</th>\n",
       "      <td>이사하면서 큰맘 먹고 구매한 가전 중 하나인 LG 광파오븐, 전에 사용하던 전자레인...</td>\n",
       "    </tr>\n",
       "    <tr>\n",
       "      <th>...</th>\n",
       "      <td>...</td>\n",
       "    </tr>\n",
       "    <tr>\n",
       "      <th>448</th>\n",
       "      <td>25평 광파오븐???이건 조합원만 주나요??지인이 25평 일반분양걸로 계약했다는데 ...</td>\n",
       "    </tr>\n",
       "    <tr>\n",
       "      <th>449</th>\n",
       "      <td>안녕하십니까. 늘 새로운 정보를 가지고오는 lg전자 구미형곡점 김경민팀장입니다. 오...</td>\n",
       "    </tr>\n",
       "    <tr>\n",
       "      <th>450</th>\n",
       "      <td>매립된 광파오븐 사용하고 계신가요? 전자렌지 돌리면 원래 안에 불없이 돌아가나요? ...</td>\n",
       "    </tr>\n",
       "    <tr>\n",
       "      <th>451</th>\n",
       "      <td>고민고민하다 세탁실선반에 광파오븐뒀는데 제가 키가작아서 좀불편하기도하고...ㅠㅠ 혹...</td>\n",
       "    </tr>\n",
       "    <tr>\n",
       "      <th>452</th>\n",
       "      <td>주방 전자레인지 자리에 광파오븐이 안들어가요. 문을 떼내고 집어 넣어야 할까요..?...</td>\n",
       "    </tr>\n",
       "  </tbody>\n",
       "</table>\n",
       "<p>453 rows × 1 columns</p>\n",
       "</div>"
      ],
      "text/plain": [
       "                                                 Title\n",
       "0                광파오븐이 전자레인지 겸용이라고는 써져있는데 에어프라이어는 모르겠네\n",
       "1    광파오븐(컨벡션 전자레인지)을 사용해 유럽식 빵(사워도우, 치아바타, 바게트 등)을...\n",
       "2    LG 광파오븐 청소 방법 멀티클린 활용기 삶이 윤택해진다 LG 광파오븐 을 지르고 ...\n",
       "3    광파오븐렌지 매입 설치 수납장 리폼 전/후 광파오븐 매입설치 LG광파오븐 수납장 리...\n",
       "4    이사하면서 큰맘 먹고 구매한 가전 중 하나인 LG 광파오븐, 전에 사용하던 전자레인...\n",
       "..                                                 ...\n",
       "448  25평 광파오븐???이건 조합원만 주나요??지인이 25평 일반분양걸로 계약했다는데 ...\n",
       "449  안녕하십니까. 늘 새로운 정보를 가지고오는 lg전자 구미형곡점 김경민팀장입니다. 오...\n",
       "450  매립된 광파오븐 사용하고 계신가요? 전자렌지 돌리면 원래 안에 불없이 돌아가나요? ...\n",
       "451  고민고민하다 세탁실선반에 광파오븐뒀는데 제가 키가작아서 좀불편하기도하고...ㅠㅠ 혹...\n",
       "452  주방 전자레인지 자리에 광파오븐이 안들어가요. 문을 떼내고 집어 넣어야 할까요..?...\n",
       "\n",
       "[453 rows x 1 columns]"
      ]
     },
     "execution_count": 5,
     "metadata": {},
     "output_type": "execute_result"
    }
   ],
   "source": [
    "df7 = pd.read_csv(\"data/daum.csv\")\n",
    "df7"
   ]
  },
  {
   "cell_type": "code",
   "execution_count": null,
   "id": "edc095a378657172",
   "metadata": {
    "ExecuteTime": {
     "end_time": "2024-10-17T07:33:51.841408Z",
     "start_time": "2024-10-17T07:33:51.834560Z"
    }
   },
   "outputs": [
    {
     "name": "stdout",
     "output_type": "stream",
     "text": [
      "(1368, 1)\n",
      "(1200, 1)\n",
      "(2030, 1)\n",
      "(2830, 1)\n",
      "(1479, 1)\n"
     ]
    }
   ],
   "source": [
    "print(df1.shape)\n",
    "df1\n",
    "print(df2.shape)\n",
    "print(dsdfdf\n",
    "print(df4.shape)\n",
    "print(df5.shape)"
   ]
  },
  {
   "cell_type": "code",
   "execution_count": 7,
   "id": "3fba40378cc43009",
   "metadata": {
    "ExecuteTime": {
     "end_time": "2024-10-17T07:33:52.724969Z",
     "start_time": "2024-10-17T07:33:52.713018Z"
    }
   },
   "outputs": [
    {
     "data": {
      "text/html": [
       "<div>\n",
       "<style scoped>\n",
       "    .dataframe tbody tr th:only-of-type {\n",
       "        vertical-align: middle;\n",
       "    }\n",
       "\n",
       "    .dataframe tbody tr th {\n",
       "        vertical-align: top;\n",
       "    }\n",
       "\n",
       "    .dataframe thead th {\n",
       "        text-align: right;\n",
       "    }\n",
       "</style>\n",
       "<table border=\"1\" class=\"dataframe\">\n",
       "  <thead>\n",
       "    <tr style=\"text-align: right;\">\n",
       "      <th></th>\n",
       "      <th>Title</th>\n",
       "    </tr>\n",
       "  </thead>\n",
       "  <tbody>\n",
       "    <tr>\n",
       "      <th>0</th>\n",
       "      <td>예전에 가스 오븐만 사용해봤는데 이사오니 가스레인지밑에 전기광파오븐이 설치되어있는데...</td>\n",
       "    </tr>\n",
       "    <tr>\n",
       "      <th>1</th>\n",
       "      <td>안녕하세요 우리집 LG 가전 광파오븐 MLJ32ERS.CKOR 입니다. 일단 전자레...</td>\n",
       "    </tr>\n",
       "    <tr>\n",
       "      <th>2</th>\n",
       "      <td>1월에 캐나다로 갈 예정입니다~ 집에 LG디오스 광파오븐 있는데 이게 전자레인지, ...</td>\n",
       "    </tr>\n",
       "    <tr>\n",
       "      <th>3</th>\n",
       "      <td>집에 에어프라이어 오븐과 LG 디오스 광파오븐 전자레인지?(회전함, 아파트 옵션)이...</td>\n",
       "    </tr>\n",
       "    <tr>\n",
       "      <th>4</th>\n",
       "      <td>통합된 광파오븐이나 큐커가 좋다는 분들이 있어서 헷갈려요ㅜㅜ 햇반 돌리거나 생선구이...</td>\n",
       "    </tr>\n",
       "    <tr>\n",
       "      <th>...</th>\n",
       "      <td>...</td>\n",
       "    </tr>\n",
       "    <tr>\n",
       "      <th>448</th>\n",
       "      <td>25평 광파오븐???이건 조합원만 주나요??지인이 25평 일반분양걸로 계약했다는데 ...</td>\n",
       "    </tr>\n",
       "    <tr>\n",
       "      <th>449</th>\n",
       "      <td>안녕하십니까. 늘 새로운 정보를 가지고오는 lg전자 구미형곡점 김경민팀장입니다. 오...</td>\n",
       "    </tr>\n",
       "    <tr>\n",
       "      <th>450</th>\n",
       "      <td>매립된 광파오븐 사용하고 계신가요? 전자렌지 돌리면 원래 안에 불없이 돌아가나요? ...</td>\n",
       "    </tr>\n",
       "    <tr>\n",
       "      <th>451</th>\n",
       "      <td>고민고민하다 세탁실선반에 광파오븐뒀는데 제가 키가작아서 좀불편하기도하고...ㅠㅠ 혹...</td>\n",
       "    </tr>\n",
       "    <tr>\n",
       "      <th>452</th>\n",
       "      <td>주방 전자레인지 자리에 광파오븐이 안들어가요. 문을 떼내고 집어 넣어야 할까요..?...</td>\n",
       "    </tr>\n",
       "  </tbody>\n",
       "</table>\n",
       "<p>10934 rows × 1 columns</p>\n",
       "</div>"
      ],
      "text/plain": [
       "                                                 Title\n",
       "0    예전에 가스 오븐만 사용해봤는데 이사오니 가스레인지밑에 전기광파오븐이 설치되어있는데...\n",
       "1    안녕하세요 우리집 LG 가전 광파오븐 MLJ32ERS.CKOR 입니다. 일단 전자레...\n",
       "2    1월에 캐나다로 갈 예정입니다~ 집에 LG디오스 광파오븐 있는데 이게 전자레인지, ...\n",
       "3    집에 에어프라이어 오븐과 LG 디오스 광파오븐 전자레인지?(회전함, 아파트 옵션)이...\n",
       "4    통합된 광파오븐이나 큐커가 좋다는 분들이 있어서 헷갈려요ㅜㅜ 햇반 돌리거나 생선구이...\n",
       "..                                                 ...\n",
       "448  25평 광파오븐???이건 조합원만 주나요??지인이 25평 일반분양걸로 계약했다는데 ...\n",
       "449  안녕하십니까. 늘 새로운 정보를 가지고오는 lg전자 구미형곡점 김경민팀장입니다. 오...\n",
       "450  매립된 광파오븐 사용하고 계신가요? 전자렌지 돌리면 원래 안에 불없이 돌아가나요? ...\n",
       "451  고민고민하다 세탁실선반에 광파오븐뒀는데 제가 키가작아서 좀불편하기도하고...ㅠㅠ 혹...\n",
       "452  주방 전자레인지 자리에 광파오븐이 안들어가요. 문을 떼내고 집어 넣어야 할까요..?...\n",
       "\n",
       "[10934 rows x 1 columns]"
      ]
     },
     "execution_count": 7,
     "metadata": {},
     "output_type": "execute_result"
    }
   ],
   "source": [
    "df = pd.concat([df1, df2, df3, df4, df5, df6, df7], axis=0)\n",
    "df"
   ]
  },
  {
   "cell_type": "code",
   "execution_count": 8,
   "id": "d8b856a78432dcd7",
   "metadata": {
    "ExecuteTime": {
     "end_time": "2024-10-17T07:33:53.403594Z",
     "start_time": "2024-10-17T07:33:53.330408Z"
    }
   },
   "outputs": [
    {
     "data": {
      "text/html": [
       "<div>\n",
       "<style scoped>\n",
       "    .dataframe tbody tr th:only-of-type {\n",
       "        vertical-align: middle;\n",
       "    }\n",
       "\n",
       "    .dataframe tbody tr th {\n",
       "        vertical-align: top;\n",
       "    }\n",
       "\n",
       "    .dataframe thead th {\n",
       "        text-align: right;\n",
       "    }\n",
       "</style>\n",
       "<table border=\"1\" class=\"dataframe\">\n",
       "  <thead>\n",
       "    <tr style=\"text-align: right;\">\n",
       "      <th></th>\n",
       "      <th>Title</th>\n",
       "    </tr>\n",
       "  </thead>\n",
       "  <tbody>\n",
       "    <tr>\n",
       "      <th>0</th>\n",
       "      <td>예전에 가스 오븐만 사용해봤는데 이사오니 가스레인지밑에 전기광파오븐이 설치되어있는데...</td>\n",
       "    </tr>\n",
       "    <tr>\n",
       "      <th>1</th>\n",
       "      <td>안녕하세요 우리집 LG 가전 광파오븐 MLJ32ERS.CKOR 입니다. 일단 전자레...</td>\n",
       "    </tr>\n",
       "    <tr>\n",
       "      <th>2</th>\n",
       "      <td>1월에 캐나다로 갈 예정입니다~ 집에 LG디오스 광파오븐 있는데 이게 전자레인지, ...</td>\n",
       "    </tr>\n",
       "    <tr>\n",
       "      <th>3</th>\n",
       "      <td>집에 에어프라이어 오븐과 LG 디오스 광파오븐 전자레인지?(회전함, 아파트 옵션)이...</td>\n",
       "    </tr>\n",
       "    <tr>\n",
       "      <th>4</th>\n",
       "      <td>통합된 광파오븐이나 큐커가 좋다는 분들이 있어서 헷갈려요ㅜㅜ 햇반 돌리거나 생선구이...</td>\n",
       "    </tr>\n",
       "    <tr>\n",
       "      <th>...</th>\n",
       "      <td>...</td>\n",
       "    </tr>\n",
       "    <tr>\n",
       "      <th>448</th>\n",
       "      <td>25평 광파오븐???이건 조합원만 주나요??지인이 25평 일반분양걸로 계약했다는데 ...</td>\n",
       "    </tr>\n",
       "    <tr>\n",
       "      <th>449</th>\n",
       "      <td>안녕하십니까. 늘 새로운 정보를 가지고오는 lg전자 구미형곡점 김경민팀장입니다. 오...</td>\n",
       "    </tr>\n",
       "    <tr>\n",
       "      <th>450</th>\n",
       "      <td>매립된 광파오븐 사용하고 계신가요? 전자렌지 돌리면 원래 안에 불없이 돌아가나요? ...</td>\n",
       "    </tr>\n",
       "    <tr>\n",
       "      <th>451</th>\n",
       "      <td>고민고민하다 세탁실선반에 광파오븐뒀는데 제가 키가작아서 좀불편하기도하고...ㅠㅠ 혹...</td>\n",
       "    </tr>\n",
       "    <tr>\n",
       "      <th>452</th>\n",
       "      <td>주방 전자레인지 자리에 광파오븐이 안들어가요. 문을 떼내고 집어 넣어야 할까요..?...</td>\n",
       "    </tr>\n",
       "  </tbody>\n",
       "</table>\n",
       "<p>10187 rows × 1 columns</p>\n",
       "</div>"
      ],
      "text/plain": [
       "                                                 Title\n",
       "0    예전에 가스 오븐만 사용해봤는데 이사오니 가스레인지밑에 전기광파오븐이 설치되어있는데...\n",
       "1    안녕하세요 우리집 LG 가전 광파오븐 MLJ32ERS.CKOR 입니다. 일단 전자레...\n",
       "2    1월에 캐나다로 갈 예정입니다~ 집에 LG디오스 광파오븐 있는데 이게 전자레인지, ...\n",
       "3    집에 에어프라이어 오븐과 LG 디오스 광파오븐 전자레인지?(회전함, 아파트 옵션)이...\n",
       "4    통합된 광파오븐이나 큐커가 좋다는 분들이 있어서 헷갈려요ㅜㅜ 햇반 돌리거나 생선구이...\n",
       "..                                                 ...\n",
       "448  25평 광파오븐???이건 조합원만 주나요??지인이 25평 일반분양걸로 계약했다는데 ...\n",
       "449  안녕하십니까. 늘 새로운 정보를 가지고오는 lg전자 구미형곡점 김경민팀장입니다. 오...\n",
       "450  매립된 광파오븐 사용하고 계신가요? 전자렌지 돌리면 원래 안에 불없이 돌아가나요? ...\n",
       "451  고민고민하다 세탁실선반에 광파오븐뒀는데 제가 키가작아서 좀불편하기도하고...ㅠㅠ 혹...\n",
       "452  주방 전자레인지 자리에 광파오븐이 안들어가요. 문을 떼내고 집어 넣어야 할까요..?...\n",
       "\n",
       "[10187 rows x 1 columns]"
      ]
     },
     "execution_count": 8,
     "metadata": {},
     "output_type": "execute_result"
    }
   ],
   "source": [
    "df_cleaned = df.drop_duplicates()\n",
    "df_cleaned.to_csv(\"data/원문.csv\", index=False)\n",
    "df_cleaned"
   ]
  },
  {
   "cell_type": "code",
   "execution_count": 14,
   "id": "377d63aa0faf7b4c",
   "metadata": {
    "ExecuteTime": {
     "end_time": "2024-10-17T07:37:10.286372Z",
     "start_time": "2024-10-17T07:37:08.685684Z"
    }
   },
   "outputs": [],
   "source": [
    "import torch\n",
    "import re\n",
    "import pandas as pd\n",
    "from transformers import T5ForConditionalGeneration, T5Tokenizer\n",
    "\n",
    "# T5 모델과 토크나이저 로드\n",
    "model = T5ForConditionalGeneration.from_pretrained(\"j5ng/et5-typos-corrector\")\n",
    "tokenizer = T5Tokenizer.from_pretrained(\"j5ng/et5-typos-corrector\", legacy=False)\n",
    "\n",
    "device = \"cuda:0\" if torch.cuda.is_available() else \"cpu\"\n",
    "model = model.to(device)\n",
    "\n",
    "def clean_text(text):\n",
    "    # text가 NaN(결측치)일 경우 빈 문자열로 처리\n",
    "    if pd.isna(text):\n",
    "        return \"\"\n",
    "    \n",
    "    # 맞춤법 교정\n",
    "    input_encoding = tokenizer(\"맞춤법을 고쳐주세요: \" + text, return_tensors=\"pt\")\n",
    "    input_ids = input_encoding.input_ids.to(device)\n",
    "    attention_mask = input_encoding.attention_mask.to(device)\n",
    "\n",
    "    # T5 모델 출력 생성\n",
    "    output_encoding = model.generate(\n",
    "        input_ids=input_ids,\n",
    "        attention_mask=attention_mask,\n",
    "        max_length=128,\n",
    "        num_beams=5,\n",
    "        early_stopping=True,\n",
    "    )\n",
    "\n",
    "    # 출력 문장 디코딩\n",
    "    output_text = tokenizer.decode(output_encoding[0], skip_special_tokens=True)\n",
    "\n",
    "    # 한글과 공백을 제외한 모든 문자 제거\n",
    "    cleaned_text = re.sub(r'[^가-힣\\s]', ' ', output_text)\n",
    "    # 다시 연속된 공백을 하나의 공백으로 변환\n",
    "    cleaned_text = re.sub(r'\\s+', ' ', cleaned_text)\n",
    "    # 앞뒤 공백 제거\n",
    "    return cleaned_text.strip()"
   ]
  },
  {
   "cell_type": "code",
   "execution_count": 18,
   "id": "e710b3ae7d870d14",
   "metadata": {
    "ExecuteTime": {
     "end_time": "2024-10-17T16:40:39.317879Z",
     "start_time": "2024-10-17T07:43:18.896314Z"
    }
   },
   "outputs": [
    {
     "name": "stderr",
     "output_type": "stream",
     "text": [
      "Processing batches: 100%|██████████| 10187/10187 [8:57:20<00:00,  3.16s/it]  \n",
      "C:\\Users\\dxschool\\AppData\\Local\\Temp\\ipykernel_5292\\335321871.py:15: SettingWithCopyWarning: \n",
      "A value is trying to be set on a copy of a slice from a DataFrame.\n",
      "Try using .loc[row_indexer,col_indexer] = value instead\n",
      "\n",
      "See the caveats in the documentation: https://pandas.pydata.org/pandas-docs/stable/user_guide/indexing.html#returning-a-view-versus-a-copy\n",
      "  df_cleaned['Title'] = cleaned_titles[:len(df_cleaned)]  # 길이를 맞추기 위해 슬라이싱\n"
     ]
    }
   ],
   "source": [
    "from tqdm import tqdm\n",
    "cleaned_titles = []\n",
    "batch_size = 1\n",
    "\n",
    "# tqdm을 사용하여 진행률 표시\n",
    "for start in tqdm(range(0, len(df_cleaned), batch_size), desc=\"Processing batches\"):\n",
    "    end = start + batch_size\n",
    "    # 현재 배치 선택\n",
    "    batch = df_cleaned.iloc[start:end]\n",
    "    # clean_text 함수 적용\n",
    "    cleaned_batch = batch['Title'].apply(clean_text)\n",
    "    cleaned_titles.extend(cleaned_batch)\n",
    "\n",
    "# 결과를 새로운 데이터프레임에 추가\n",
    "df_cleaned['Title'] = cleaned_titles[:len(df_cleaned)]\n",
    "\n",
    "# 빈 문자열을 가진 행 삭제\n",
    "df_cleaned = df_cleaned[df_cleaned['Title'] != \"\"]\n",
    "\n",
    "# NaN 값이 있는 행 삭제\n",
    "df_cleaned = df_cleaned.dropna(subset=['Title'])"
   ]
  },
  {
   "cell_type": "code",
   "execution_count": 21,
   "id": "2e6b1b6afc99612a",
   "metadata": {
    "ExecuteTime": {
     "end_time": "2024-10-17T23:49:48.535695Z",
     "start_time": "2024-10-17T23:49:48.525344Z"
    }
   },
   "outputs": [
    {
     "data": {
      "text/html": [
       "<div>\n",
       "<style scoped>\n",
       "    .dataframe tbody tr th:only-of-type {\n",
       "        vertical-align: middle;\n",
       "    }\n",
       "\n",
       "    .dataframe tbody tr th {\n",
       "        vertical-align: top;\n",
       "    }\n",
       "\n",
       "    .dataframe thead th {\n",
       "        text-align: right;\n",
       "    }\n",
       "</style>\n",
       "<table border=\"1\" class=\"dataframe\">\n",
       "  <thead>\n",
       "    <tr style=\"text-align: right;\">\n",
       "      <th></th>\n",
       "      <th>Title</th>\n",
       "    </tr>\n",
       "  </thead>\n",
       "  <tbody>\n",
       "    <tr>\n",
       "      <th>0</th>\n",
       "      <td>예전에 가스 오븐만 사용해 봤는데 이오니 가스레인지 밑에 전기 광파 오븐이 설치해 ...</td>\n",
       "    </tr>\n",
       "    <tr>\n",
       "      <th>1</th>\n",
       "      <td>안녕하세요 우리 집 가전 광파 오븐</td>\n",
       "    </tr>\n",
       "    <tr>\n",
       "      <th>2</th>\n",
       "      <td>월에 캐나다로 갈 예정입니다 집에 디오스 광파 오븐 있는데 이게 전자레인지나 오븐 ...</td>\n",
       "    </tr>\n",
       "    <tr>\n",
       "      <th>3</th>\n",
       "      <td>집에 에어 프라이어 오븐과 디오스 광파 오븐 전자레인지 회전함 아파트 옵션이 있는데...</td>\n",
       "    </tr>\n",
       "    <tr>\n",
       "      <th>4</th>\n",
       "      <td>통합된 광파 오븐이나 큐커가 좋다는 분들이 있어서 헷갈려요 햇반 돌리거나 생선구이 ...</td>\n",
       "    </tr>\n",
       "    <tr>\n",
       "      <th>...</th>\n",
       "      <td>...</td>\n",
       "    </tr>\n",
       "    <tr>\n",
       "      <th>448</th>\n",
       "      <td>평 광파 오븐 이건 조합원만 주나요 지인이 평 일반 분양 거로 계약했다는데 물어보네요</td>\n",
       "    </tr>\n",
       "    <tr>\n",
       "      <th>449</th>\n",
       "      <td>안녕하십니까 늘 새로운 정보를 가지고 오는 전자 구미형 곡점 김경민 팀장입니다 오늘...</td>\n",
       "    </tr>\n",
       "    <tr>\n",
       "      <th>450</th>\n",
       "      <td>매립된 광파 오븐 사용하고 계시나요 전자레인지 돌리면 원래 안에 불 없이 돌아가나요...</td>\n",
       "    </tr>\n",
       "    <tr>\n",
       "      <th>451</th>\n",
       "      <td>고민 고민하다 세탁실 선반에 광파 오븐 뒀는데 제가 키가 작아서 좀 불편하기도 하고...</td>\n",
       "    </tr>\n",
       "    <tr>\n",
       "      <th>452</th>\n",
       "      <td>주방 전자레인지 자리에 광파 오븐이 안 들어가요 문을 떼내고 집어 넣어야 할까요 떼...</td>\n",
       "    </tr>\n",
       "  </tbody>\n",
       "</table>\n",
       "<p>9984 rows × 1 columns</p>\n",
       "</div>"
      ],
      "text/plain": [
       "                                                 Title\n",
       "0    예전에 가스 오븐만 사용해 봤는데 이오니 가스레인지 밑에 전기 광파 오븐이 설치해 ...\n",
       "1                                  안녕하세요 우리 집 가전 광파 오븐\n",
       "2    월에 캐나다로 갈 예정입니다 집에 디오스 광파 오븐 있는데 이게 전자레인지나 오븐 ...\n",
       "3    집에 에어 프라이어 오븐과 디오스 광파 오븐 전자레인지 회전함 아파트 옵션이 있는데...\n",
       "4    통합된 광파 오븐이나 큐커가 좋다는 분들이 있어서 헷갈려요 햇반 돌리거나 생선구이 ...\n",
       "..                                                 ...\n",
       "448    평 광파 오븐 이건 조합원만 주나요 지인이 평 일반 분양 거로 계약했다는데 물어보네요\n",
       "449  안녕하십니까 늘 새로운 정보를 가지고 오는 전자 구미형 곡점 김경민 팀장입니다 오늘...\n",
       "450  매립된 광파 오븐 사용하고 계시나요 전자레인지 돌리면 원래 안에 불 없이 돌아가나요...\n",
       "451  고민 고민하다 세탁실 선반에 광파 오븐 뒀는데 제가 키가 작아서 좀 불편하기도 하고...\n",
       "452  주방 전자레인지 자리에 광파 오븐이 안 들어가요 문을 떼내고 집어 넣어야 할까요 떼...\n",
       "\n",
       "[9984 rows x 1 columns]"
      ]
     },
     "execution_count": 21,
     "metadata": {},
     "output_type": "execute_result"
    }
   ],
   "source": [
    "df_cleaned"
   ]
  },
  {
   "cell_type": "code",
   "execution_count": 22,
   "id": "43c117b0250852ce",
   "metadata": {
    "ExecuteTime": {
     "end_time": "2024-10-17T23:51:45.455465Z",
     "start_time": "2024-10-17T23:51:45.434883Z"
    }
   },
   "outputs": [],
   "source": [
    "df_cleaned.to_csv(\"data/data_cleaned.csv\", index=False)"
   ]
  },
  {
   "cell_type": "code",
   "execution_count": null,
   "id": "229f0f3f7e7cdd46",
   "metadata": {},
   "outputs": [],
   "source": []
  }
 ],
 "metadata": {
  "kernelspec": {
   "display_name": "Python 3",
   "language": "python",
   "name": "python3"
  },
  "language_info": {
   "codemirror_mode": {
    "name": "ipython",
    "version": 2
   },
   "file_extension": ".py",
   "mimetype": "text/x-python",
   "name": "python",
   "nbconvert_exporter": "python",
   "pygments_lexer": "ipython2",
   "version": "2.7.6"
  }
 },
 "nbformat": 4,
 "nbformat_minor": 5
}
